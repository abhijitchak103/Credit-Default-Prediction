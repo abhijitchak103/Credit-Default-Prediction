{
 "cells": [
  {
   "cell_type": "markdown",
   "metadata": {},
   "source": [
    "# Exploratory Data Analysis"
   ]
  },
  {
   "cell_type": "markdown",
   "metadata": {},
   "source": [
    "## Import packages and Dataset"
   ]
  },
  {
   "cell_type": "code",
   "execution_count": 1,
   "metadata": {
    "id": "yx4ms10t6gSz"
   },
   "outputs": [],
   "source": [
    "import pandas as pd\n",
    "import numpy as np\n",
    "import matplotlib.pyplot as plt\n",
    "import seaborn as sns\n",
    "%matplotlib inline\n",
    "pd.set_option(\"Display.max_columns\", None)\n",
    "import warnings "
   ]
  },
  {
   "cell_type": "code",
   "execution_count": 74,
   "metadata": {
    "id": "y7MGQ2wr7WyT"
   },
   "outputs": [],
   "source": [
    "df = pd.read_excel('data/default-of-credit-card-clients.xls', header=1)"
   ]
  },
  {
   "cell_type": "code",
   "execution_count": 3,
   "metadata": {
    "colab": {
     "base_uri": "https://localhost:8080/",
     "height": 322
    },
    "id": "ItprvcbW7k-j",
    "outputId": "094a0b28-a149-427c-8b91-169e267adb83"
   },
   "outputs": [
    {
     "data": {
      "text/html": [
       "<div>\n",
       "<style scoped>\n",
       "    .dataframe tbody tr th:only-of-type {\n",
       "        vertical-align: middle;\n",
       "    }\n",
       "\n",
       "    .dataframe tbody tr th {\n",
       "        vertical-align: top;\n",
       "    }\n",
       "\n",
       "    .dataframe thead th {\n",
       "        text-align: right;\n",
       "    }\n",
       "</style>\n",
       "<table border=\"1\" class=\"dataframe\">\n",
       "  <thead>\n",
       "    <tr style=\"text-align: right;\">\n",
       "      <th></th>\n",
       "      <th>ID</th>\n",
       "      <th>LIMIT_BAL</th>\n",
       "      <th>SEX</th>\n",
       "      <th>EDUCATION</th>\n",
       "      <th>MARRIAGE</th>\n",
       "      <th>AGE</th>\n",
       "      <th>PAY_0</th>\n",
       "      <th>PAY_2</th>\n",
       "      <th>PAY_3</th>\n",
       "      <th>PAY_4</th>\n",
       "      <th>PAY_5</th>\n",
       "      <th>PAY_6</th>\n",
       "      <th>BILL_AMT1</th>\n",
       "      <th>BILL_AMT2</th>\n",
       "      <th>BILL_AMT3</th>\n",
       "      <th>BILL_AMT4</th>\n",
       "      <th>BILL_AMT5</th>\n",
       "      <th>BILL_AMT6</th>\n",
       "      <th>PAY_AMT1</th>\n",
       "      <th>PAY_AMT2</th>\n",
       "      <th>PAY_AMT3</th>\n",
       "      <th>PAY_AMT4</th>\n",
       "      <th>PAY_AMT5</th>\n",
       "      <th>PAY_AMT6</th>\n",
       "      <th>default payment next month</th>\n",
       "    </tr>\n",
       "  </thead>\n",
       "  <tbody>\n",
       "    <tr>\n",
       "      <th>0</th>\n",
       "      <td>1</td>\n",
       "      <td>20000</td>\n",
       "      <td>2</td>\n",
       "      <td>2</td>\n",
       "      <td>1</td>\n",
       "      <td>24</td>\n",
       "      <td>2</td>\n",
       "      <td>2</td>\n",
       "      <td>-1</td>\n",
       "      <td>-1</td>\n",
       "      <td>-2</td>\n",
       "      <td>-2</td>\n",
       "      <td>3913</td>\n",
       "      <td>3102</td>\n",
       "      <td>689</td>\n",
       "      <td>0</td>\n",
       "      <td>0</td>\n",
       "      <td>0</td>\n",
       "      <td>0</td>\n",
       "      <td>689</td>\n",
       "      <td>0</td>\n",
       "      <td>0</td>\n",
       "      <td>0</td>\n",
       "      <td>0</td>\n",
       "      <td>1</td>\n",
       "    </tr>\n",
       "    <tr>\n",
       "      <th>1</th>\n",
       "      <td>2</td>\n",
       "      <td>120000</td>\n",
       "      <td>2</td>\n",
       "      <td>2</td>\n",
       "      <td>2</td>\n",
       "      <td>26</td>\n",
       "      <td>-1</td>\n",
       "      <td>2</td>\n",
       "      <td>0</td>\n",
       "      <td>0</td>\n",
       "      <td>0</td>\n",
       "      <td>2</td>\n",
       "      <td>2682</td>\n",
       "      <td>1725</td>\n",
       "      <td>2682</td>\n",
       "      <td>3272</td>\n",
       "      <td>3455</td>\n",
       "      <td>3261</td>\n",
       "      <td>0</td>\n",
       "      <td>1000</td>\n",
       "      <td>1000</td>\n",
       "      <td>1000</td>\n",
       "      <td>0</td>\n",
       "      <td>2000</td>\n",
       "      <td>1</td>\n",
       "    </tr>\n",
       "    <tr>\n",
       "      <th>2</th>\n",
       "      <td>3</td>\n",
       "      <td>90000</td>\n",
       "      <td>2</td>\n",
       "      <td>2</td>\n",
       "      <td>2</td>\n",
       "      <td>34</td>\n",
       "      <td>0</td>\n",
       "      <td>0</td>\n",
       "      <td>0</td>\n",
       "      <td>0</td>\n",
       "      <td>0</td>\n",
       "      <td>0</td>\n",
       "      <td>29239</td>\n",
       "      <td>14027</td>\n",
       "      <td>13559</td>\n",
       "      <td>14331</td>\n",
       "      <td>14948</td>\n",
       "      <td>15549</td>\n",
       "      <td>1518</td>\n",
       "      <td>1500</td>\n",
       "      <td>1000</td>\n",
       "      <td>1000</td>\n",
       "      <td>1000</td>\n",
       "      <td>5000</td>\n",
       "      <td>0</td>\n",
       "    </tr>\n",
       "    <tr>\n",
       "      <th>3</th>\n",
       "      <td>4</td>\n",
       "      <td>50000</td>\n",
       "      <td>2</td>\n",
       "      <td>2</td>\n",
       "      <td>1</td>\n",
       "      <td>37</td>\n",
       "      <td>0</td>\n",
       "      <td>0</td>\n",
       "      <td>0</td>\n",
       "      <td>0</td>\n",
       "      <td>0</td>\n",
       "      <td>0</td>\n",
       "      <td>46990</td>\n",
       "      <td>48233</td>\n",
       "      <td>49291</td>\n",
       "      <td>28314</td>\n",
       "      <td>28959</td>\n",
       "      <td>29547</td>\n",
       "      <td>2000</td>\n",
       "      <td>2019</td>\n",
       "      <td>1200</td>\n",
       "      <td>1100</td>\n",
       "      <td>1069</td>\n",
       "      <td>1000</td>\n",
       "      <td>0</td>\n",
       "    </tr>\n",
       "    <tr>\n",
       "      <th>4</th>\n",
       "      <td>5</td>\n",
       "      <td>50000</td>\n",
       "      <td>1</td>\n",
       "      <td>2</td>\n",
       "      <td>1</td>\n",
       "      <td>57</td>\n",
       "      <td>-1</td>\n",
       "      <td>0</td>\n",
       "      <td>-1</td>\n",
       "      <td>0</td>\n",
       "      <td>0</td>\n",
       "      <td>0</td>\n",
       "      <td>8617</td>\n",
       "      <td>5670</td>\n",
       "      <td>35835</td>\n",
       "      <td>20940</td>\n",
       "      <td>19146</td>\n",
       "      <td>19131</td>\n",
       "      <td>2000</td>\n",
       "      <td>36681</td>\n",
       "      <td>10000</td>\n",
       "      <td>9000</td>\n",
       "      <td>689</td>\n",
       "      <td>679</td>\n",
       "      <td>0</td>\n",
       "    </tr>\n",
       "  </tbody>\n",
       "</table>\n",
       "</div>"
      ],
      "text/plain": [
       "   ID  LIMIT_BAL  SEX  EDUCATION  MARRIAGE  AGE  PAY_0  PAY_2  PAY_3  PAY_4  \\\n",
       "0   1      20000    2          2         1   24      2      2     -1     -1   \n",
       "1   2     120000    2          2         2   26     -1      2      0      0   \n",
       "2   3      90000    2          2         2   34      0      0      0      0   \n",
       "3   4      50000    2          2         1   37      0      0      0      0   \n",
       "4   5      50000    1          2         1   57     -1      0     -1      0   \n",
       "\n",
       "   PAY_5  PAY_6  BILL_AMT1  BILL_AMT2  BILL_AMT3  BILL_AMT4  BILL_AMT5  \\\n",
       "0     -2     -2       3913       3102        689          0          0   \n",
       "1      0      2       2682       1725       2682       3272       3455   \n",
       "2      0      0      29239      14027      13559      14331      14948   \n",
       "3      0      0      46990      48233      49291      28314      28959   \n",
       "4      0      0       8617       5670      35835      20940      19146   \n",
       "\n",
       "   BILL_AMT6  PAY_AMT1  PAY_AMT2  PAY_AMT3  PAY_AMT4  PAY_AMT5  PAY_AMT6  \\\n",
       "0          0         0       689         0         0         0         0   \n",
       "1       3261         0      1000      1000      1000         0      2000   \n",
       "2      15549      1518      1500      1000      1000      1000      5000   \n",
       "3      29547      2000      2019      1200      1100      1069      1000   \n",
       "4      19131      2000     36681     10000      9000       689       679   \n",
       "\n",
       "   default payment next month  \n",
       "0                           1  \n",
       "1                           1  \n",
       "2                           0  \n",
       "3                           0  \n",
       "4                           0  "
      ]
     },
     "execution_count": 3,
     "metadata": {},
     "output_type": "execute_result"
    }
   ],
   "source": [
    "df.head()"
   ]
  },
  {
   "cell_type": "markdown",
   "metadata": {},
   "source": [
    "## Drop ID Column\n",
    "\n",
    "The `ID` column seems to be unqiue for all and sequential for the dataset. We drop the column first."
   ]
  },
  {
   "cell_type": "code",
   "execution_count": 4,
   "metadata": {
    "id": "cIQvwF-87nAg"
   },
   "outputs": [],
   "source": [
    "df.drop('ID', inplace=True, axis=1)"
   ]
  },
  {
   "cell_type": "code",
   "execution_count": 5,
   "metadata": {
    "colab": {
     "base_uri": "https://localhost:8080/",
     "height": 322
    },
    "id": "nWigmsaS72lX",
    "outputId": "72573e60-a917-4720-dbf8-b56d15dd0238"
   },
   "outputs": [
    {
     "data": {
      "text/html": [
       "<div>\n",
       "<style scoped>\n",
       "    .dataframe tbody tr th:only-of-type {\n",
       "        vertical-align: middle;\n",
       "    }\n",
       "\n",
       "    .dataframe tbody tr th {\n",
       "        vertical-align: top;\n",
       "    }\n",
       "\n",
       "    .dataframe thead th {\n",
       "        text-align: right;\n",
       "    }\n",
       "</style>\n",
       "<table border=\"1\" class=\"dataframe\">\n",
       "  <thead>\n",
       "    <tr style=\"text-align: right;\">\n",
       "      <th></th>\n",
       "      <th>LIMIT_BAL</th>\n",
       "      <th>SEX</th>\n",
       "      <th>EDUCATION</th>\n",
       "      <th>MARRIAGE</th>\n",
       "      <th>AGE</th>\n",
       "      <th>PAY_0</th>\n",
       "      <th>PAY_2</th>\n",
       "      <th>PAY_3</th>\n",
       "      <th>PAY_4</th>\n",
       "      <th>PAY_5</th>\n",
       "      <th>PAY_6</th>\n",
       "      <th>BILL_AMT1</th>\n",
       "      <th>BILL_AMT2</th>\n",
       "      <th>BILL_AMT3</th>\n",
       "      <th>BILL_AMT4</th>\n",
       "      <th>BILL_AMT5</th>\n",
       "      <th>BILL_AMT6</th>\n",
       "      <th>PAY_AMT1</th>\n",
       "      <th>PAY_AMT2</th>\n",
       "      <th>PAY_AMT3</th>\n",
       "      <th>PAY_AMT4</th>\n",
       "      <th>PAY_AMT5</th>\n",
       "      <th>PAY_AMT6</th>\n",
       "      <th>default payment next month</th>\n",
       "    </tr>\n",
       "  </thead>\n",
       "  <tbody>\n",
       "    <tr>\n",
       "      <th>0</th>\n",
       "      <td>20000</td>\n",
       "      <td>2</td>\n",
       "      <td>2</td>\n",
       "      <td>1</td>\n",
       "      <td>24</td>\n",
       "      <td>2</td>\n",
       "      <td>2</td>\n",
       "      <td>-1</td>\n",
       "      <td>-1</td>\n",
       "      <td>-2</td>\n",
       "      <td>-2</td>\n",
       "      <td>3913</td>\n",
       "      <td>3102</td>\n",
       "      <td>689</td>\n",
       "      <td>0</td>\n",
       "      <td>0</td>\n",
       "      <td>0</td>\n",
       "      <td>0</td>\n",
       "      <td>689</td>\n",
       "      <td>0</td>\n",
       "      <td>0</td>\n",
       "      <td>0</td>\n",
       "      <td>0</td>\n",
       "      <td>1</td>\n",
       "    </tr>\n",
       "    <tr>\n",
       "      <th>1</th>\n",
       "      <td>120000</td>\n",
       "      <td>2</td>\n",
       "      <td>2</td>\n",
       "      <td>2</td>\n",
       "      <td>26</td>\n",
       "      <td>-1</td>\n",
       "      <td>2</td>\n",
       "      <td>0</td>\n",
       "      <td>0</td>\n",
       "      <td>0</td>\n",
       "      <td>2</td>\n",
       "      <td>2682</td>\n",
       "      <td>1725</td>\n",
       "      <td>2682</td>\n",
       "      <td>3272</td>\n",
       "      <td>3455</td>\n",
       "      <td>3261</td>\n",
       "      <td>0</td>\n",
       "      <td>1000</td>\n",
       "      <td>1000</td>\n",
       "      <td>1000</td>\n",
       "      <td>0</td>\n",
       "      <td>2000</td>\n",
       "      <td>1</td>\n",
       "    </tr>\n",
       "    <tr>\n",
       "      <th>2</th>\n",
       "      <td>90000</td>\n",
       "      <td>2</td>\n",
       "      <td>2</td>\n",
       "      <td>2</td>\n",
       "      <td>34</td>\n",
       "      <td>0</td>\n",
       "      <td>0</td>\n",
       "      <td>0</td>\n",
       "      <td>0</td>\n",
       "      <td>0</td>\n",
       "      <td>0</td>\n",
       "      <td>29239</td>\n",
       "      <td>14027</td>\n",
       "      <td>13559</td>\n",
       "      <td>14331</td>\n",
       "      <td>14948</td>\n",
       "      <td>15549</td>\n",
       "      <td>1518</td>\n",
       "      <td>1500</td>\n",
       "      <td>1000</td>\n",
       "      <td>1000</td>\n",
       "      <td>1000</td>\n",
       "      <td>5000</td>\n",
       "      <td>0</td>\n",
       "    </tr>\n",
       "    <tr>\n",
       "      <th>3</th>\n",
       "      <td>50000</td>\n",
       "      <td>2</td>\n",
       "      <td>2</td>\n",
       "      <td>1</td>\n",
       "      <td>37</td>\n",
       "      <td>0</td>\n",
       "      <td>0</td>\n",
       "      <td>0</td>\n",
       "      <td>0</td>\n",
       "      <td>0</td>\n",
       "      <td>0</td>\n",
       "      <td>46990</td>\n",
       "      <td>48233</td>\n",
       "      <td>49291</td>\n",
       "      <td>28314</td>\n",
       "      <td>28959</td>\n",
       "      <td>29547</td>\n",
       "      <td>2000</td>\n",
       "      <td>2019</td>\n",
       "      <td>1200</td>\n",
       "      <td>1100</td>\n",
       "      <td>1069</td>\n",
       "      <td>1000</td>\n",
       "      <td>0</td>\n",
       "    </tr>\n",
       "    <tr>\n",
       "      <th>4</th>\n",
       "      <td>50000</td>\n",
       "      <td>1</td>\n",
       "      <td>2</td>\n",
       "      <td>1</td>\n",
       "      <td>57</td>\n",
       "      <td>-1</td>\n",
       "      <td>0</td>\n",
       "      <td>-1</td>\n",
       "      <td>0</td>\n",
       "      <td>0</td>\n",
       "      <td>0</td>\n",
       "      <td>8617</td>\n",
       "      <td>5670</td>\n",
       "      <td>35835</td>\n",
       "      <td>20940</td>\n",
       "      <td>19146</td>\n",
       "      <td>19131</td>\n",
       "      <td>2000</td>\n",
       "      <td>36681</td>\n",
       "      <td>10000</td>\n",
       "      <td>9000</td>\n",
       "      <td>689</td>\n",
       "      <td>679</td>\n",
       "      <td>0</td>\n",
       "    </tr>\n",
       "  </tbody>\n",
       "</table>\n",
       "</div>"
      ],
      "text/plain": [
       "   LIMIT_BAL  SEX  EDUCATION  MARRIAGE  AGE  PAY_0  PAY_2  PAY_3  PAY_4  \\\n",
       "0      20000    2          2         1   24      2      2     -1     -1   \n",
       "1     120000    2          2         2   26     -1      2      0      0   \n",
       "2      90000    2          2         2   34      0      0      0      0   \n",
       "3      50000    2          2         1   37      0      0      0      0   \n",
       "4      50000    1          2         1   57     -1      0     -1      0   \n",
       "\n",
       "   PAY_5  PAY_6  BILL_AMT1  BILL_AMT2  BILL_AMT3  BILL_AMT4  BILL_AMT5  \\\n",
       "0     -2     -2       3913       3102        689          0          0   \n",
       "1      0      2       2682       1725       2682       3272       3455   \n",
       "2      0      0      29239      14027      13559      14331      14948   \n",
       "3      0      0      46990      48233      49291      28314      28959   \n",
       "4      0      0       8617       5670      35835      20940      19146   \n",
       "\n",
       "   BILL_AMT6  PAY_AMT1  PAY_AMT2  PAY_AMT3  PAY_AMT4  PAY_AMT5  PAY_AMT6  \\\n",
       "0          0         0       689         0         0         0         0   \n",
       "1       3261         0      1000      1000      1000         0      2000   \n",
       "2      15549      1518      1500      1000      1000      1000      5000   \n",
       "3      29547      2000      2019      1200      1100      1069      1000   \n",
       "4      19131      2000     36681     10000      9000       689       679   \n",
       "\n",
       "   default payment next month  \n",
       "0                           1  \n",
       "1                           1  \n",
       "2                           0  \n",
       "3                           0  \n",
       "4                           0  "
      ]
     },
     "execution_count": 5,
     "metadata": {},
     "output_type": "execute_result"
    }
   ],
   "source": [
    "df.head()"
   ]
  },
  {
   "cell_type": "markdown",
   "metadata": {},
   "source": [
    "## Rename DataFrame Columns\n",
    "\n",
    "The columns do not provide much information or insight on what they contain. We shall rename them now."
   ]
  },
  {
   "cell_type": "code",
   "execution_count": 6,
   "metadata": {
    "id": "ysxq3iyk8m2T"
   },
   "outputs": [],
   "source": [
    "# Create a column name map for better usage\n",
    "\n",
    "column_name_map = {\n",
    "    'LIMIT_BAL': 'Credit_Amount_Available',\n",
    "    'SEX': 'Gender',\n",
    "    'EDUCATION': 'Education_Level',\n",
    "    'MARRIAGE': 'Marital_Status',\n",
    "    'AGE': 'Age',\n",
    "    'PAY_0': 'Repayment_Status_Sep_2005',\n",
    "    'PAY_2': 'Repayment_Status_Aug_2005',\n",
    "    'PAY_3': 'Repayment_Status_Jul_2005',\n",
    "    'PAY_4': 'Repayment_Status_Jun_2005',\n",
    "    'PAY_5': 'Repayment_Status_May_2005',\n",
    "    'PAY_6': 'Repayment_Status_Apr_2005',\n",
    "    'BILL_AMT1': 'Bill_Amount_Sep_2005',\n",
    "    'BILL_AMT2': 'Bill_Amount_Aug_2005',\n",
    "    'BILL_AMT3': 'Bill_Amount_Jul_2005',\n",
    "    'BILL_AMT4': 'Bill_Amount_Jun_2005',\n",
    "    'BILL_AMT5': 'Bill_Amount_May_2005',\n",
    "    'BILL_AMT6': 'Bill_Amount_Apr_2005',\n",
    "    'PAY_AMT1': 'Amount_Paid_Sep_2005',\n",
    "    'PAY_AMT2': 'Amount_Paid_Aug_2005',\n",
    "    'PAY_AMT3': 'Amount_Paid_Jul_2005',\n",
    "    'PAY_AMT4': 'Amount_Paid_Jun_2005',\n",
    "    'PAY_AMT5': 'Amount_Paid_May_2005',\n",
    "    'PAY_AMT6': 'Amount_Paid_Apr_2005',\n",
    "    'default payment next month': 'Default_Status'\n",
    "}"
   ]
  },
  {
   "cell_type": "code",
   "execution_count": 7,
   "metadata": {
    "id": "nSRwcabt_NGm"
   },
   "outputs": [],
   "source": [
    "# Rename the dataframe columns for better understanding and usage\n",
    "df.rename(columns=column_name_map, inplace=True)"
   ]
  },
  {
   "cell_type": "code",
   "execution_count": 75,
   "metadata": {},
   "outputs": [],
   "source": [
    "data_corr = df.copy()"
   ]
  },
  {
   "cell_type": "code",
   "execution_count": 8,
   "metadata": {
    "colab": {
     "base_uri": "https://localhost:8080/",
     "height": 176
    },
    "id": "7zbtVCI6_w8l",
    "outputId": "60a0f68c-3d21-4f5a-e968-304f27133cac"
   },
   "outputs": [
    {
     "data": {
      "text/html": [
       "<div>\n",
       "<style scoped>\n",
       "    .dataframe tbody tr th:only-of-type {\n",
       "        vertical-align: middle;\n",
       "    }\n",
       "\n",
       "    .dataframe tbody tr th {\n",
       "        vertical-align: top;\n",
       "    }\n",
       "\n",
       "    .dataframe thead th {\n",
       "        text-align: right;\n",
       "    }\n",
       "</style>\n",
       "<table border=\"1\" class=\"dataframe\">\n",
       "  <thead>\n",
       "    <tr style=\"text-align: right;\">\n",
       "      <th></th>\n",
       "      <th>Credit_Amount_Available</th>\n",
       "      <th>Gender</th>\n",
       "      <th>Education_Level</th>\n",
       "      <th>Marital_Status</th>\n",
       "      <th>Age</th>\n",
       "      <th>Repayment_Status_Sep_2005</th>\n",
       "      <th>Repayment_Status_Aug_2005</th>\n",
       "      <th>Repayment_Status_Jul_2005</th>\n",
       "      <th>Repayment_Status_Jun_2005</th>\n",
       "      <th>Repayment_Status_May_2005</th>\n",
       "      <th>Repayment_Status_Apr_2005</th>\n",
       "      <th>Bill_Amount_Sep_2005</th>\n",
       "      <th>Bill_Amount_Aug_2005</th>\n",
       "      <th>Bill_Amount_Jul_2005</th>\n",
       "      <th>Bill_Amount_Jun_2005</th>\n",
       "      <th>Bill_Amount_May_2005</th>\n",
       "      <th>Bill_Amount_Apr_2005</th>\n",
       "      <th>Amount_Paid_Sep_2005</th>\n",
       "      <th>Amount_Paid_Aug_2005</th>\n",
       "      <th>Amount_Paid_Jul_2005</th>\n",
       "      <th>Amount_Paid_Jun_2005</th>\n",
       "      <th>Amount_Paid_May_2005</th>\n",
       "      <th>Amount_Paid_Apr_2005</th>\n",
       "      <th>Default_Status</th>\n",
       "    </tr>\n",
       "  </thead>\n",
       "  <tbody>\n",
       "    <tr>\n",
       "      <th>0</th>\n",
       "      <td>20000</td>\n",
       "      <td>2</td>\n",
       "      <td>2</td>\n",
       "      <td>1</td>\n",
       "      <td>24</td>\n",
       "      <td>2</td>\n",
       "      <td>2</td>\n",
       "      <td>-1</td>\n",
       "      <td>-1</td>\n",
       "      <td>-2</td>\n",
       "      <td>-2</td>\n",
       "      <td>3913</td>\n",
       "      <td>3102</td>\n",
       "      <td>689</td>\n",
       "      <td>0</td>\n",
       "      <td>0</td>\n",
       "      <td>0</td>\n",
       "      <td>0</td>\n",
       "      <td>689</td>\n",
       "      <td>0</td>\n",
       "      <td>0</td>\n",
       "      <td>0</td>\n",
       "      <td>0</td>\n",
       "      <td>1</td>\n",
       "    </tr>\n",
       "    <tr>\n",
       "      <th>1</th>\n",
       "      <td>120000</td>\n",
       "      <td>2</td>\n",
       "      <td>2</td>\n",
       "      <td>2</td>\n",
       "      <td>26</td>\n",
       "      <td>-1</td>\n",
       "      <td>2</td>\n",
       "      <td>0</td>\n",
       "      <td>0</td>\n",
       "      <td>0</td>\n",
       "      <td>2</td>\n",
       "      <td>2682</td>\n",
       "      <td>1725</td>\n",
       "      <td>2682</td>\n",
       "      <td>3272</td>\n",
       "      <td>3455</td>\n",
       "      <td>3261</td>\n",
       "      <td>0</td>\n",
       "      <td>1000</td>\n",
       "      <td>1000</td>\n",
       "      <td>1000</td>\n",
       "      <td>0</td>\n",
       "      <td>2000</td>\n",
       "      <td>1</td>\n",
       "    </tr>\n",
       "  </tbody>\n",
       "</table>\n",
       "</div>"
      ],
      "text/plain": [
       "   Credit_Amount_Available  Gender  Education_Level  Marital_Status  Age  \\\n",
       "0                    20000       2                2               1   24   \n",
       "1                   120000       2                2               2   26   \n",
       "\n",
       "   Repayment_Status_Sep_2005  Repayment_Status_Aug_2005  \\\n",
       "0                          2                          2   \n",
       "1                         -1                          2   \n",
       "\n",
       "   Repayment_Status_Jul_2005  Repayment_Status_Jun_2005  \\\n",
       "0                         -1                         -1   \n",
       "1                          0                          0   \n",
       "\n",
       "   Repayment_Status_May_2005  Repayment_Status_Apr_2005  Bill_Amount_Sep_2005  \\\n",
       "0                         -2                         -2                  3913   \n",
       "1                          0                          2                  2682   \n",
       "\n",
       "   Bill_Amount_Aug_2005  Bill_Amount_Jul_2005  Bill_Amount_Jun_2005  \\\n",
       "0                  3102                   689                     0   \n",
       "1                  1725                  2682                  3272   \n",
       "\n",
       "   Bill_Amount_May_2005  Bill_Amount_Apr_2005  Amount_Paid_Sep_2005  \\\n",
       "0                     0                     0                     0   \n",
       "1                  3455                  3261                     0   \n",
       "\n",
       "   Amount_Paid_Aug_2005  Amount_Paid_Jul_2005  Amount_Paid_Jun_2005  \\\n",
       "0                   689                     0                     0   \n",
       "1                  1000                  1000                  1000   \n",
       "\n",
       "   Amount_Paid_May_2005  Amount_Paid_Apr_2005  Default_Status  \n",
       "0                     0                     0               1  \n",
       "1                     0                  2000               1  "
      ]
     },
     "execution_count": 8,
     "metadata": {},
     "output_type": "execute_result"
    }
   ],
   "source": [
    "df.head(2)"
   ]
  },
  {
   "cell_type": "markdown",
   "metadata": {
    "id": "wkSDsSY7Ahkf"
   },
   "source": [
    "## Missing Values\n",
    "\n",
    "Let's first check for missing values in the dataset which might need imputing."
   ]
  },
  {
   "cell_type": "code",
   "execution_count": 9,
   "metadata": {
    "colab": {
     "base_uri": "https://localhost:8080/"
    },
    "id": "6tTsHra4_y3j",
    "outputId": "b7fff8a3-2586-4181-a7e4-519339e52dfc"
   },
   "outputs": [
    {
     "data": {
      "text/plain": [
       "Credit_Amount_Available      0\n",
       "Gender                       0\n",
       "Education_Level              0\n",
       "Marital_Status               0\n",
       "Age                          0\n",
       "Repayment_Status_Sep_2005    0\n",
       "Repayment_Status_Aug_2005    0\n",
       "Repayment_Status_Jul_2005    0\n",
       "Repayment_Status_Jun_2005    0\n",
       "Repayment_Status_May_2005    0\n",
       "Repayment_Status_Apr_2005    0\n",
       "Bill_Amount_Sep_2005         0\n",
       "Bill_Amount_Aug_2005         0\n",
       "Bill_Amount_Jul_2005         0\n",
       "Bill_Amount_Jun_2005         0\n",
       "Bill_Amount_May_2005         0\n",
       "Bill_Amount_Apr_2005         0\n",
       "Amount_Paid_Sep_2005         0\n",
       "Amount_Paid_Aug_2005         0\n",
       "Amount_Paid_Jul_2005         0\n",
       "Amount_Paid_Jun_2005         0\n",
       "Amount_Paid_May_2005         0\n",
       "Amount_Paid_Apr_2005         0\n",
       "Default_Status               0\n",
       "dtype: int64"
      ]
     },
     "execution_count": 9,
     "metadata": {},
     "output_type": "execute_result"
    }
   ],
   "source": [
    "df.isnull().sum()"
   ]
  },
  {
   "cell_type": "markdown",
   "metadata": {
    "id": "95SoM8kaA2H2"
   },
   "source": [
    "#### Observation:\n",
    "\n",
    "No missing values present in the dataset."
   ]
  },
  {
   "cell_type": "markdown",
   "metadata": {
    "id": "-hrrjepFA7y2"
   },
   "source": [
    "## Datatype of Columns\n",
    "\n",
    "Let's check the dtype of each column in the dataset. From `df.head()` some columns look to be categorical in nature but hold numeric data."
   ]
  },
  {
   "cell_type": "code",
   "execution_count": 10,
   "metadata": {
    "colab": {
     "base_uri": "https://localhost:8080/"
    },
    "id": "3rzyNJGmAwPL",
    "outputId": "721e0a50-d5c9-4dc3-b9f8-c53362a8688b"
   },
   "outputs": [
    {
     "name": "stdout",
     "output_type": "stream",
     "text": [
      "<class 'pandas.core.frame.DataFrame'>\n",
      "RangeIndex: 30000 entries, 0 to 29999\n",
      "Data columns (total 24 columns):\n",
      " #   Column                     Non-Null Count  Dtype\n",
      "---  ------                     --------------  -----\n",
      " 0   Credit_Amount_Available    30000 non-null  int64\n",
      " 1   Gender                     30000 non-null  int64\n",
      " 2   Education_Level            30000 non-null  int64\n",
      " 3   Marital_Status             30000 non-null  int64\n",
      " 4   Age                        30000 non-null  int64\n",
      " 5   Repayment_Status_Sep_2005  30000 non-null  int64\n",
      " 6   Repayment_Status_Aug_2005  30000 non-null  int64\n",
      " 7   Repayment_Status_Jul_2005  30000 non-null  int64\n",
      " 8   Repayment_Status_Jun_2005  30000 non-null  int64\n",
      " 9   Repayment_Status_May_2005  30000 non-null  int64\n",
      " 10  Repayment_Status_Apr_2005  30000 non-null  int64\n",
      " 11  Bill_Amount_Sep_2005       30000 non-null  int64\n",
      " 12  Bill_Amount_Aug_2005       30000 non-null  int64\n",
      " 13  Bill_Amount_Jul_2005       30000 non-null  int64\n",
      " 14  Bill_Amount_Jun_2005       30000 non-null  int64\n",
      " 15  Bill_Amount_May_2005       30000 non-null  int64\n",
      " 16  Bill_Amount_Apr_2005       30000 non-null  int64\n",
      " 17  Amount_Paid_Sep_2005       30000 non-null  int64\n",
      " 18  Amount_Paid_Aug_2005       30000 non-null  int64\n",
      " 19  Amount_Paid_Jul_2005       30000 non-null  int64\n",
      " 20  Amount_Paid_Jun_2005       30000 non-null  int64\n",
      " 21  Amount_Paid_May_2005       30000 non-null  int64\n",
      " 22  Amount_Paid_Apr_2005       30000 non-null  int64\n",
      " 23  Default_Status             30000 non-null  int64\n",
      "dtypes: int64(24)\n",
      "memory usage: 5.5 MB\n"
     ]
    }
   ],
   "source": [
    "df.info()"
   ]
  },
  {
   "cell_type": "markdown",
   "metadata": {
    "id": "i6FzrBhABCrt"
   },
   "source": [
    "#### Observation:\n",
    "\n",
    "As we can see, all the independent variables are of `int64` type although some are categorical. Let's correct this first on a copy of the dataset, so it will be easier for exploring the data later."
   ]
  },
  {
   "cell_type": "markdown",
   "metadata": {},
   "source": [
    "## Adjusting dtypes of columns\n",
    "\n",
    "Key to the different categories: [Key](https://archive.ics.uci.edu/ml/datasets/default+of+credit+card+clients#)"
   ]
  },
  {
   "cell_type": "markdown",
   "metadata": {},
   "source": [
    "Lets first check the unique values in the categorical columns."
   ]
  },
  {
   "cell_type": "code",
   "execution_count": 16,
   "metadata": {},
   "outputs": [
    {
     "data": {
      "text/plain": [
       "array([2, 1], dtype=int64)"
      ]
     },
     "execution_count": 16,
     "metadata": {},
     "output_type": "execute_result"
    }
   ],
   "source": [
    "df.Gender.unique()"
   ]
  },
  {
   "cell_type": "code",
   "execution_count": 17,
   "metadata": {},
   "outputs": [
    {
     "data": {
      "text/plain": [
       "array([1, 2, 3, 0], dtype=int64)"
      ]
     },
     "execution_count": 17,
     "metadata": {},
     "output_type": "execute_result"
    }
   ],
   "source": [
    "df.Marital_Status.unique()"
   ]
  },
  {
   "cell_type": "code",
   "execution_count": 18,
   "metadata": {},
   "outputs": [
    {
     "data": {
      "text/plain": [
       "array([2, 1, 3, 5, 4, 6, 0], dtype=int64)"
      ]
     },
     "execution_count": 18,
     "metadata": {},
     "output_type": "execute_result"
    }
   ],
   "source": [
    "df.Education_Level.unique()"
   ]
  },
  {
   "cell_type": "code",
   "execution_count": 19,
   "metadata": {},
   "outputs": [
    {
     "data": {
      "text/plain": [
       "array([ 2, -1,  0, -2,  1,  3,  4,  8,  7,  5,  6], dtype=int64)"
      ]
     },
     "execution_count": 19,
     "metadata": {},
     "output_type": "execute_result"
    }
   ],
   "source": [
    "df.Repayment_Status_Sep_2005.unique()"
   ]
  },
  {
   "cell_type": "code",
   "execution_count": 20,
   "metadata": {},
   "outputs": [
    {
     "data": {
      "text/plain": [
       "array([ 2,  0, -1, -2,  3,  5,  7,  4,  1,  6,  8], dtype=int64)"
      ]
     },
     "execution_count": 20,
     "metadata": {},
     "output_type": "execute_result"
    }
   ],
   "source": [
    "df.Repayment_Status_Aug_2005.unique()"
   ]
  },
  {
   "cell_type": "code",
   "execution_count": 21,
   "metadata": {},
   "outputs": [
    {
     "data": {
      "text/plain": [
       "array([-1,  0,  2, -2,  3,  4,  6,  7,  1,  5,  8], dtype=int64)"
      ]
     },
     "execution_count": 21,
     "metadata": {},
     "output_type": "execute_result"
    }
   ],
   "source": [
    "df.Repayment_Status_Jul_2005.unique()"
   ]
  },
  {
   "cell_type": "code",
   "execution_count": 22,
   "metadata": {},
   "outputs": [
    {
     "data": {
      "text/plain": [
       "array([-1,  0, -2,  2,  3,  4,  5,  7,  6,  1,  8], dtype=int64)"
      ]
     },
     "execution_count": 22,
     "metadata": {},
     "output_type": "execute_result"
    }
   ],
   "source": [
    "df.Repayment_Status_Jun_2005.unique()"
   ]
  },
  {
   "cell_type": "code",
   "execution_count": 23,
   "metadata": {},
   "outputs": [
    {
     "data": {
      "text/plain": [
       "array([-2,  0, -1,  2,  3,  5,  4,  7,  8,  6], dtype=int64)"
      ]
     },
     "execution_count": 23,
     "metadata": {},
     "output_type": "execute_result"
    }
   ],
   "source": [
    "df.Repayment_Status_May_2005.unique()"
   ]
  },
  {
   "cell_type": "code",
   "execution_count": 24,
   "metadata": {},
   "outputs": [
    {
     "data": {
      "text/plain": [
       "array([-2,  2,  0, -1,  3,  6,  4,  7,  8,  5], dtype=int64)"
      ]
     },
     "execution_count": 24,
     "metadata": {},
     "output_type": "execute_result"
    }
   ],
   "source": [
    "df.Repayment_Status_Apr_2005.unique()"
   ]
  },
  {
   "cell_type": "markdown",
   "metadata": {},
   "source": [
    "As we see from the unique values, there are datapoints in the categorical columns which do not any description in the dataset description provided in the `Key` above. We will replace those values with `unknown`."
   ]
  },
  {
   "cell_type": "code",
   "execution_count": 25,
   "metadata": {},
   "outputs": [],
   "source": [
    "# Create a map for replacing values\n",
    "\n",
    "mapper = {\n",
    "    'Gender': {1: 'Male', 2: 'Female'},\n",
    "    'Education_Level': {1: 'Graduate School', 2: 'University', 3: 'High School', 4: 'Others',\n",
    "                       0: 'Unknown', 5: 'Unknown', 6: 'Unknown'},\n",
    "    'Marital_Status': {0: 'Unknown', 1: 'Married', 2: 'Single', 3: 'Others'},\n",
    "    'Repayment_Status_Sep_2005': {-1: 'Pay Duly',\n",
    "        1: '1 month delay',\n",
    "        2: '2 months delay',\n",
    "        3: '3 months delay',\n",
    "        4: '4 months delay',\n",
    "        5: '5 months delay',\n",
    "        6: '6 months delay',\n",
    "        7: '7 months delay',\n",
    "        8: '8 months delay',\n",
    "        9: '9 months delay',\n",
    "        -2: 'Unknown',\n",
    "        0: 'Unknown'},\n",
    "    'Repayment_Status_Aug_2005': {-1: 'Pay Duly',\n",
    "        1: '1 month delay',\n",
    "        2: '2 months delay',\n",
    "        3: '3 months delay',\n",
    "        4: '4 months delay',\n",
    "        5: '5 months delay',\n",
    "        6: '6 months delay',\n",
    "        7: '7 months delay',\n",
    "        8: '8 months delay',\n",
    "        9: '9 months delay',\n",
    "        -2: 'Unknown',\n",
    "        0: 'Unknown'},\n",
    "    'Repayment_Status_Jul_2005': {-1: 'Pay Duly',\n",
    "        1: '1 month delay',\n",
    "        2: '2 months delay',\n",
    "        3: '3 months delay',\n",
    "        4: '4 months delay',\n",
    "        5: '5 months delay',\n",
    "        6: '6 months delay',\n",
    "        7: '7 months delay',\n",
    "        8: '8 months delay',\n",
    "        9: '9 months delay',\n",
    "        -2: 'Unknown',\n",
    "        0: 'Unknown'},\n",
    "    'Repayment_Status_Jun_2005': {-1: 'Pay Duly',\n",
    "        1: '1 month delay',\n",
    "        2: '2 months delay',\n",
    "        3: '3 months delay',\n",
    "        4: '4 months delay',\n",
    "        5: '5 months delay',\n",
    "        6: '6 months delay',\n",
    "        7: '7 months delay',\n",
    "        8: '8 months delay',\n",
    "        9: '9 months delay',\n",
    "        -2: 'Unknown',\n",
    "        0: 'Unknown'},\n",
    "    'Repayment_Status_May_2005': {-1: 'Pay Duly',\n",
    "        1: '1 month delay',\n",
    "        2: '2 months delay',\n",
    "        3: '3 months delay',\n",
    "        4: '4 months delay',\n",
    "        5: '5 months delay',\n",
    "        6: '6 months delay',\n",
    "        7: '7 months delay',\n",
    "        8: '8 months delay',\n",
    "        9: '9 months delay',\n",
    "        -2: 'Unknown',\n",
    "        0: 'Unknown'},\n",
    "    'Repayment_Status_Apr_2005': {-1: 'Pay Duly',\n",
    "        1: '1 month delay',\n",
    "        2: '2 months delay',\n",
    "        3: '3 months delay',\n",
    "        4: '4 months delay',\n",
    "        5: '5 months delay',\n",
    "        6: '6 months delay',\n",
    "        7: '7 months delay',\n",
    "        8: '8 months delay',\n",
    "        9: '9 months delay',\n",
    "        -2: 'Unknown',\n",
    "        0: 'Unknown'}    \n",
    "}"
   ]
  },
  {
   "cell_type": "code",
   "execution_count": 26,
   "metadata": {},
   "outputs": [],
   "source": [
    "df_copy = df.copy()\n",
    "df_copy.replace(mapper, inplace=True)"
   ]
  },
  {
   "cell_type": "code",
   "execution_count": 27,
   "metadata": {},
   "outputs": [
    {
     "data": {
      "text/html": [
       "<div>\n",
       "<style scoped>\n",
       "    .dataframe tbody tr th:only-of-type {\n",
       "        vertical-align: middle;\n",
       "    }\n",
       "\n",
       "    .dataframe tbody tr th {\n",
       "        vertical-align: top;\n",
       "    }\n",
       "\n",
       "    .dataframe thead th {\n",
       "        text-align: right;\n",
       "    }\n",
       "</style>\n",
       "<table border=\"1\" class=\"dataframe\">\n",
       "  <thead>\n",
       "    <tr style=\"text-align: right;\">\n",
       "      <th></th>\n",
       "      <th>Credit_Amount_Available</th>\n",
       "      <th>Gender</th>\n",
       "      <th>Education_Level</th>\n",
       "      <th>Marital_Status</th>\n",
       "      <th>Age</th>\n",
       "      <th>Repayment_Status_Sep_2005</th>\n",
       "      <th>Repayment_Status_Aug_2005</th>\n",
       "      <th>Repayment_Status_Jul_2005</th>\n",
       "      <th>Repayment_Status_Jun_2005</th>\n",
       "      <th>Repayment_Status_May_2005</th>\n",
       "      <th>Repayment_Status_Apr_2005</th>\n",
       "      <th>Bill_Amount_Sep_2005</th>\n",
       "      <th>Bill_Amount_Aug_2005</th>\n",
       "      <th>Bill_Amount_Jul_2005</th>\n",
       "      <th>Bill_Amount_Jun_2005</th>\n",
       "      <th>Bill_Amount_May_2005</th>\n",
       "      <th>Bill_Amount_Apr_2005</th>\n",
       "      <th>Amount_Paid_Sep_2005</th>\n",
       "      <th>Amount_Paid_Aug_2005</th>\n",
       "      <th>Amount_Paid_Jul_2005</th>\n",
       "      <th>Amount_Paid_Jun_2005</th>\n",
       "      <th>Amount_Paid_May_2005</th>\n",
       "      <th>Amount_Paid_Apr_2005</th>\n",
       "      <th>Default_Status</th>\n",
       "    </tr>\n",
       "  </thead>\n",
       "  <tbody>\n",
       "    <tr>\n",
       "      <th>0</th>\n",
       "      <td>20000</td>\n",
       "      <td>Female</td>\n",
       "      <td>University</td>\n",
       "      <td>Married</td>\n",
       "      <td>24</td>\n",
       "      <td>2 months delay</td>\n",
       "      <td>2 months delay</td>\n",
       "      <td>Pay Duly</td>\n",
       "      <td>Pay Duly</td>\n",
       "      <td>Unknown</td>\n",
       "      <td>Unknown</td>\n",
       "      <td>3913</td>\n",
       "      <td>3102</td>\n",
       "      <td>689</td>\n",
       "      <td>0</td>\n",
       "      <td>0</td>\n",
       "      <td>0</td>\n",
       "      <td>0</td>\n",
       "      <td>689</td>\n",
       "      <td>0</td>\n",
       "      <td>0</td>\n",
       "      <td>0</td>\n",
       "      <td>0</td>\n",
       "      <td>1</td>\n",
       "    </tr>\n",
       "    <tr>\n",
       "      <th>1</th>\n",
       "      <td>120000</td>\n",
       "      <td>Female</td>\n",
       "      <td>University</td>\n",
       "      <td>Single</td>\n",
       "      <td>26</td>\n",
       "      <td>Pay Duly</td>\n",
       "      <td>2 months delay</td>\n",
       "      <td>Unknown</td>\n",
       "      <td>Unknown</td>\n",
       "      <td>Unknown</td>\n",
       "      <td>2 months delay</td>\n",
       "      <td>2682</td>\n",
       "      <td>1725</td>\n",
       "      <td>2682</td>\n",
       "      <td>3272</td>\n",
       "      <td>3455</td>\n",
       "      <td>3261</td>\n",
       "      <td>0</td>\n",
       "      <td>1000</td>\n",
       "      <td>1000</td>\n",
       "      <td>1000</td>\n",
       "      <td>0</td>\n",
       "      <td>2000</td>\n",
       "      <td>1</td>\n",
       "    </tr>\n",
       "    <tr>\n",
       "      <th>2</th>\n",
       "      <td>90000</td>\n",
       "      <td>Female</td>\n",
       "      <td>University</td>\n",
       "      <td>Single</td>\n",
       "      <td>34</td>\n",
       "      <td>Unknown</td>\n",
       "      <td>Unknown</td>\n",
       "      <td>Unknown</td>\n",
       "      <td>Unknown</td>\n",
       "      <td>Unknown</td>\n",
       "      <td>Unknown</td>\n",
       "      <td>29239</td>\n",
       "      <td>14027</td>\n",
       "      <td>13559</td>\n",
       "      <td>14331</td>\n",
       "      <td>14948</td>\n",
       "      <td>15549</td>\n",
       "      <td>1518</td>\n",
       "      <td>1500</td>\n",
       "      <td>1000</td>\n",
       "      <td>1000</td>\n",
       "      <td>1000</td>\n",
       "      <td>5000</td>\n",
       "      <td>0</td>\n",
       "    </tr>\n",
       "    <tr>\n",
       "      <th>3</th>\n",
       "      <td>50000</td>\n",
       "      <td>Female</td>\n",
       "      <td>University</td>\n",
       "      <td>Married</td>\n",
       "      <td>37</td>\n",
       "      <td>Unknown</td>\n",
       "      <td>Unknown</td>\n",
       "      <td>Unknown</td>\n",
       "      <td>Unknown</td>\n",
       "      <td>Unknown</td>\n",
       "      <td>Unknown</td>\n",
       "      <td>46990</td>\n",
       "      <td>48233</td>\n",
       "      <td>49291</td>\n",
       "      <td>28314</td>\n",
       "      <td>28959</td>\n",
       "      <td>29547</td>\n",
       "      <td>2000</td>\n",
       "      <td>2019</td>\n",
       "      <td>1200</td>\n",
       "      <td>1100</td>\n",
       "      <td>1069</td>\n",
       "      <td>1000</td>\n",
       "      <td>0</td>\n",
       "    </tr>\n",
       "    <tr>\n",
       "      <th>4</th>\n",
       "      <td>50000</td>\n",
       "      <td>Male</td>\n",
       "      <td>University</td>\n",
       "      <td>Married</td>\n",
       "      <td>57</td>\n",
       "      <td>Pay Duly</td>\n",
       "      <td>Unknown</td>\n",
       "      <td>Pay Duly</td>\n",
       "      <td>Unknown</td>\n",
       "      <td>Unknown</td>\n",
       "      <td>Unknown</td>\n",
       "      <td>8617</td>\n",
       "      <td>5670</td>\n",
       "      <td>35835</td>\n",
       "      <td>20940</td>\n",
       "      <td>19146</td>\n",
       "      <td>19131</td>\n",
       "      <td>2000</td>\n",
       "      <td>36681</td>\n",
       "      <td>10000</td>\n",
       "      <td>9000</td>\n",
       "      <td>689</td>\n",
       "      <td>679</td>\n",
       "      <td>0</td>\n",
       "    </tr>\n",
       "  </tbody>\n",
       "</table>\n",
       "</div>"
      ],
      "text/plain": [
       "   Credit_Amount_Available  Gender Education_Level Marital_Status  Age  \\\n",
       "0                    20000  Female      University        Married   24   \n",
       "1                   120000  Female      University         Single   26   \n",
       "2                    90000  Female      University         Single   34   \n",
       "3                    50000  Female      University        Married   37   \n",
       "4                    50000    Male      University        Married   57   \n",
       "\n",
       "  Repayment_Status_Sep_2005 Repayment_Status_Aug_2005  \\\n",
       "0            2 months delay            2 months delay   \n",
       "1                  Pay Duly            2 months delay   \n",
       "2                   Unknown                   Unknown   \n",
       "3                   Unknown                   Unknown   \n",
       "4                  Pay Duly                   Unknown   \n",
       "\n",
       "  Repayment_Status_Jul_2005 Repayment_Status_Jun_2005  \\\n",
       "0                  Pay Duly                  Pay Duly   \n",
       "1                   Unknown                   Unknown   \n",
       "2                   Unknown                   Unknown   \n",
       "3                   Unknown                   Unknown   \n",
       "4                  Pay Duly                   Unknown   \n",
       "\n",
       "  Repayment_Status_May_2005 Repayment_Status_Apr_2005  Bill_Amount_Sep_2005  \\\n",
       "0                   Unknown                   Unknown                  3913   \n",
       "1                   Unknown            2 months delay                  2682   \n",
       "2                   Unknown                   Unknown                 29239   \n",
       "3                   Unknown                   Unknown                 46990   \n",
       "4                   Unknown                   Unknown                  8617   \n",
       "\n",
       "   Bill_Amount_Aug_2005  Bill_Amount_Jul_2005  Bill_Amount_Jun_2005  \\\n",
       "0                  3102                   689                     0   \n",
       "1                  1725                  2682                  3272   \n",
       "2                 14027                 13559                 14331   \n",
       "3                 48233                 49291                 28314   \n",
       "4                  5670                 35835                 20940   \n",
       "\n",
       "   Bill_Amount_May_2005  Bill_Amount_Apr_2005  Amount_Paid_Sep_2005  \\\n",
       "0                     0                     0                     0   \n",
       "1                  3455                  3261                     0   \n",
       "2                 14948                 15549                  1518   \n",
       "3                 28959                 29547                  2000   \n",
       "4                 19146                 19131                  2000   \n",
       "\n",
       "   Amount_Paid_Aug_2005  Amount_Paid_Jul_2005  Amount_Paid_Jun_2005  \\\n",
       "0                   689                     0                     0   \n",
       "1                  1000                  1000                  1000   \n",
       "2                  1500                  1000                  1000   \n",
       "3                  2019                  1200                  1100   \n",
       "4                 36681                 10000                  9000   \n",
       "\n",
       "   Amount_Paid_May_2005  Amount_Paid_Apr_2005  Default_Status  \n",
       "0                     0                     0               1  \n",
       "1                     0                  2000               1  \n",
       "2                  1000                  5000               0  \n",
       "3                  1069                  1000               0  \n",
       "4                   689                   679               0  "
      ]
     },
     "execution_count": 27,
     "metadata": {},
     "output_type": "execute_result"
    }
   ],
   "source": [
    "df_copy.head()"
   ]
  },
  {
   "cell_type": "markdown",
   "metadata": {},
   "source": [
    "We can have a decent idea of the dataset from the datapoints apart from the `Unknown` points."
   ]
  },
  {
   "cell_type": "markdown",
   "metadata": {},
   "source": [
    "## Descriptive Statistics\n",
    "\n",
    "Lets check the descriptive statistics of the dataset."
   ]
  },
  {
   "cell_type": "code",
   "execution_count": 28,
   "metadata": {},
   "outputs": [
    {
     "data": {
      "text/plain": [
       "(30000, 24)"
      ]
     },
     "execution_count": 28,
     "metadata": {},
     "output_type": "execute_result"
    }
   ],
   "source": [
    "df_copy.shape"
   ]
  },
  {
   "cell_type": "markdown",
   "metadata": {},
   "source": [
    "As expected we have 30000 datapoints."
   ]
  },
  {
   "cell_type": "code",
   "execution_count": 30,
   "metadata": {},
   "outputs": [
    {
     "data": {
      "text/html": [
       "<div>\n",
       "<style scoped>\n",
       "    .dataframe tbody tr th:only-of-type {\n",
       "        vertical-align: middle;\n",
       "    }\n",
       "\n",
       "    .dataframe tbody tr th {\n",
       "        vertical-align: top;\n",
       "    }\n",
       "\n",
       "    .dataframe thead th {\n",
       "        text-align: right;\n",
       "    }\n",
       "</style>\n",
       "<table border=\"1\" class=\"dataframe\">\n",
       "  <thead>\n",
       "    <tr style=\"text-align: right;\">\n",
       "      <th></th>\n",
       "      <th>Credit_Amount_Available</th>\n",
       "      <th>Gender</th>\n",
       "      <th>Education_Level</th>\n",
       "      <th>Marital_Status</th>\n",
       "      <th>Age</th>\n",
       "      <th>Repayment_Status_Sep_2005</th>\n",
       "      <th>Repayment_Status_Aug_2005</th>\n",
       "      <th>Repayment_Status_Jul_2005</th>\n",
       "      <th>Repayment_Status_Jun_2005</th>\n",
       "      <th>Repayment_Status_May_2005</th>\n",
       "      <th>Repayment_Status_Apr_2005</th>\n",
       "      <th>Bill_Amount_Sep_2005</th>\n",
       "      <th>Bill_Amount_Aug_2005</th>\n",
       "      <th>Bill_Amount_Jul_2005</th>\n",
       "      <th>Bill_Amount_Jun_2005</th>\n",
       "      <th>Bill_Amount_May_2005</th>\n",
       "      <th>Bill_Amount_Apr_2005</th>\n",
       "      <th>Amount_Paid_Sep_2005</th>\n",
       "      <th>Amount_Paid_Aug_2005</th>\n",
       "      <th>Amount_Paid_Jul_2005</th>\n",
       "      <th>Amount_Paid_Jun_2005</th>\n",
       "      <th>Amount_Paid_May_2005</th>\n",
       "      <th>Amount_Paid_Apr_2005</th>\n",
       "      <th>Default_Status</th>\n",
       "    </tr>\n",
       "  </thead>\n",
       "  <tbody>\n",
       "    <tr>\n",
       "      <th>count</th>\n",
       "      <td>30000.000000</td>\n",
       "      <td>30000</td>\n",
       "      <td>30000</td>\n",
       "      <td>30000</td>\n",
       "      <td>30000.000000</td>\n",
       "      <td>30000</td>\n",
       "      <td>30000</td>\n",
       "      <td>30000</td>\n",
       "      <td>30000</td>\n",
       "      <td>30000</td>\n",
       "      <td>30000</td>\n",
       "      <td>30000.000000</td>\n",
       "      <td>30000.000000</td>\n",
       "      <td>3.000000e+04</td>\n",
       "      <td>30000.000000</td>\n",
       "      <td>30000.000000</td>\n",
       "      <td>30000.000000</td>\n",
       "      <td>30000.000000</td>\n",
       "      <td>3.000000e+04</td>\n",
       "      <td>30000.00000</td>\n",
       "      <td>30000.000000</td>\n",
       "      <td>30000.000000</td>\n",
       "      <td>30000.000000</td>\n",
       "      <td>30000.000000</td>\n",
       "    </tr>\n",
       "    <tr>\n",
       "      <th>unique</th>\n",
       "      <td>NaN</td>\n",
       "      <td>2</td>\n",
       "      <td>5</td>\n",
       "      <td>4</td>\n",
       "      <td>NaN</td>\n",
       "      <td>10</td>\n",
       "      <td>10</td>\n",
       "      <td>10</td>\n",
       "      <td>10</td>\n",
       "      <td>9</td>\n",
       "      <td>9</td>\n",
       "      <td>NaN</td>\n",
       "      <td>NaN</td>\n",
       "      <td>NaN</td>\n",
       "      <td>NaN</td>\n",
       "      <td>NaN</td>\n",
       "      <td>NaN</td>\n",
       "      <td>NaN</td>\n",
       "      <td>NaN</td>\n",
       "      <td>NaN</td>\n",
       "      <td>NaN</td>\n",
       "      <td>NaN</td>\n",
       "      <td>NaN</td>\n",
       "      <td>NaN</td>\n",
       "    </tr>\n",
       "    <tr>\n",
       "      <th>top</th>\n",
       "      <td>NaN</td>\n",
       "      <td>Female</td>\n",
       "      <td>University</td>\n",
       "      <td>Single</td>\n",
       "      <td>NaN</td>\n",
       "      <td>Unknown</td>\n",
       "      <td>Unknown</td>\n",
       "      <td>Unknown</td>\n",
       "      <td>Unknown</td>\n",
       "      <td>Unknown</td>\n",
       "      <td>Unknown</td>\n",
       "      <td>NaN</td>\n",
       "      <td>NaN</td>\n",
       "      <td>NaN</td>\n",
       "      <td>NaN</td>\n",
       "      <td>NaN</td>\n",
       "      <td>NaN</td>\n",
       "      <td>NaN</td>\n",
       "      <td>NaN</td>\n",
       "      <td>NaN</td>\n",
       "      <td>NaN</td>\n",
       "      <td>NaN</td>\n",
       "      <td>NaN</td>\n",
       "      <td>NaN</td>\n",
       "    </tr>\n",
       "    <tr>\n",
       "      <th>freq</th>\n",
       "      <td>NaN</td>\n",
       "      <td>18112</td>\n",
       "      <td>14030</td>\n",
       "      <td>15964</td>\n",
       "      <td>NaN</td>\n",
       "      <td>17496</td>\n",
       "      <td>19512</td>\n",
       "      <td>19849</td>\n",
       "      <td>20803</td>\n",
       "      <td>21493</td>\n",
       "      <td>21181</td>\n",
       "      <td>NaN</td>\n",
       "      <td>NaN</td>\n",
       "      <td>NaN</td>\n",
       "      <td>NaN</td>\n",
       "      <td>NaN</td>\n",
       "      <td>NaN</td>\n",
       "      <td>NaN</td>\n",
       "      <td>NaN</td>\n",
       "      <td>NaN</td>\n",
       "      <td>NaN</td>\n",
       "      <td>NaN</td>\n",
       "      <td>NaN</td>\n",
       "      <td>NaN</td>\n",
       "    </tr>\n",
       "    <tr>\n",
       "      <th>mean</th>\n",
       "      <td>167484.322667</td>\n",
       "      <td>NaN</td>\n",
       "      <td>NaN</td>\n",
       "      <td>NaN</td>\n",
       "      <td>35.485500</td>\n",
       "      <td>NaN</td>\n",
       "      <td>NaN</td>\n",
       "      <td>NaN</td>\n",
       "      <td>NaN</td>\n",
       "      <td>NaN</td>\n",
       "      <td>NaN</td>\n",
       "      <td>51223.330900</td>\n",
       "      <td>49179.075167</td>\n",
       "      <td>4.701315e+04</td>\n",
       "      <td>43262.948967</td>\n",
       "      <td>40311.400967</td>\n",
       "      <td>38871.760400</td>\n",
       "      <td>5663.580500</td>\n",
       "      <td>5.921163e+03</td>\n",
       "      <td>5225.68150</td>\n",
       "      <td>4826.076867</td>\n",
       "      <td>4799.387633</td>\n",
       "      <td>5215.502567</td>\n",
       "      <td>0.221200</td>\n",
       "    </tr>\n",
       "    <tr>\n",
       "      <th>std</th>\n",
       "      <td>129747.661567</td>\n",
       "      <td>NaN</td>\n",
       "      <td>NaN</td>\n",
       "      <td>NaN</td>\n",
       "      <td>9.217904</td>\n",
       "      <td>NaN</td>\n",
       "      <td>NaN</td>\n",
       "      <td>NaN</td>\n",
       "      <td>NaN</td>\n",
       "      <td>NaN</td>\n",
       "      <td>NaN</td>\n",
       "      <td>73635.860576</td>\n",
       "      <td>71173.768783</td>\n",
       "      <td>6.934939e+04</td>\n",
       "      <td>64332.856134</td>\n",
       "      <td>60797.155770</td>\n",
       "      <td>59554.107537</td>\n",
       "      <td>16563.280354</td>\n",
       "      <td>2.304087e+04</td>\n",
       "      <td>17606.96147</td>\n",
       "      <td>15666.159744</td>\n",
       "      <td>15278.305679</td>\n",
       "      <td>17777.465775</td>\n",
       "      <td>0.415062</td>\n",
       "    </tr>\n",
       "    <tr>\n",
       "      <th>min</th>\n",
       "      <td>10000.000000</td>\n",
       "      <td>NaN</td>\n",
       "      <td>NaN</td>\n",
       "      <td>NaN</td>\n",
       "      <td>21.000000</td>\n",
       "      <td>NaN</td>\n",
       "      <td>NaN</td>\n",
       "      <td>NaN</td>\n",
       "      <td>NaN</td>\n",
       "      <td>NaN</td>\n",
       "      <td>NaN</td>\n",
       "      <td>-165580.000000</td>\n",
       "      <td>-69777.000000</td>\n",
       "      <td>-1.572640e+05</td>\n",
       "      <td>-170000.000000</td>\n",
       "      <td>-81334.000000</td>\n",
       "      <td>-339603.000000</td>\n",
       "      <td>0.000000</td>\n",
       "      <td>0.000000e+00</td>\n",
       "      <td>0.00000</td>\n",
       "      <td>0.000000</td>\n",
       "      <td>0.000000</td>\n",
       "      <td>0.000000</td>\n",
       "      <td>0.000000</td>\n",
       "    </tr>\n",
       "    <tr>\n",
       "      <th>25%</th>\n",
       "      <td>50000.000000</td>\n",
       "      <td>NaN</td>\n",
       "      <td>NaN</td>\n",
       "      <td>NaN</td>\n",
       "      <td>28.000000</td>\n",
       "      <td>NaN</td>\n",
       "      <td>NaN</td>\n",
       "      <td>NaN</td>\n",
       "      <td>NaN</td>\n",
       "      <td>NaN</td>\n",
       "      <td>NaN</td>\n",
       "      <td>3558.750000</td>\n",
       "      <td>2984.750000</td>\n",
       "      <td>2.666250e+03</td>\n",
       "      <td>2326.750000</td>\n",
       "      <td>1763.000000</td>\n",
       "      <td>1256.000000</td>\n",
       "      <td>1000.000000</td>\n",
       "      <td>8.330000e+02</td>\n",
       "      <td>390.00000</td>\n",
       "      <td>296.000000</td>\n",
       "      <td>252.500000</td>\n",
       "      <td>117.750000</td>\n",
       "      <td>0.000000</td>\n",
       "    </tr>\n",
       "    <tr>\n",
       "      <th>50%</th>\n",
       "      <td>140000.000000</td>\n",
       "      <td>NaN</td>\n",
       "      <td>NaN</td>\n",
       "      <td>NaN</td>\n",
       "      <td>34.000000</td>\n",
       "      <td>NaN</td>\n",
       "      <td>NaN</td>\n",
       "      <td>NaN</td>\n",
       "      <td>NaN</td>\n",
       "      <td>NaN</td>\n",
       "      <td>NaN</td>\n",
       "      <td>22381.500000</td>\n",
       "      <td>21200.000000</td>\n",
       "      <td>2.008850e+04</td>\n",
       "      <td>19052.000000</td>\n",
       "      <td>18104.500000</td>\n",
       "      <td>17071.000000</td>\n",
       "      <td>2100.000000</td>\n",
       "      <td>2.009000e+03</td>\n",
       "      <td>1800.00000</td>\n",
       "      <td>1500.000000</td>\n",
       "      <td>1500.000000</td>\n",
       "      <td>1500.000000</td>\n",
       "      <td>0.000000</td>\n",
       "    </tr>\n",
       "    <tr>\n",
       "      <th>75%</th>\n",
       "      <td>240000.000000</td>\n",
       "      <td>NaN</td>\n",
       "      <td>NaN</td>\n",
       "      <td>NaN</td>\n",
       "      <td>41.000000</td>\n",
       "      <td>NaN</td>\n",
       "      <td>NaN</td>\n",
       "      <td>NaN</td>\n",
       "      <td>NaN</td>\n",
       "      <td>NaN</td>\n",
       "      <td>NaN</td>\n",
       "      <td>67091.000000</td>\n",
       "      <td>64006.250000</td>\n",
       "      <td>6.016475e+04</td>\n",
       "      <td>54506.000000</td>\n",
       "      <td>50190.500000</td>\n",
       "      <td>49198.250000</td>\n",
       "      <td>5006.000000</td>\n",
       "      <td>5.000000e+03</td>\n",
       "      <td>4505.00000</td>\n",
       "      <td>4013.250000</td>\n",
       "      <td>4031.500000</td>\n",
       "      <td>4000.000000</td>\n",
       "      <td>0.000000</td>\n",
       "    </tr>\n",
       "    <tr>\n",
       "      <th>max</th>\n",
       "      <td>1000000.000000</td>\n",
       "      <td>NaN</td>\n",
       "      <td>NaN</td>\n",
       "      <td>NaN</td>\n",
       "      <td>79.000000</td>\n",
       "      <td>NaN</td>\n",
       "      <td>NaN</td>\n",
       "      <td>NaN</td>\n",
       "      <td>NaN</td>\n",
       "      <td>NaN</td>\n",
       "      <td>NaN</td>\n",
       "      <td>964511.000000</td>\n",
       "      <td>983931.000000</td>\n",
       "      <td>1.664089e+06</td>\n",
       "      <td>891586.000000</td>\n",
       "      <td>927171.000000</td>\n",
       "      <td>961664.000000</td>\n",
       "      <td>873552.000000</td>\n",
       "      <td>1.684259e+06</td>\n",
       "      <td>896040.00000</td>\n",
       "      <td>621000.000000</td>\n",
       "      <td>426529.000000</td>\n",
       "      <td>528666.000000</td>\n",
       "      <td>1.000000</td>\n",
       "    </tr>\n",
       "  </tbody>\n",
       "</table>\n",
       "</div>"
      ],
      "text/plain": [
       "        Credit_Amount_Available  Gender Education_Level Marital_Status  \\\n",
       "count              30000.000000   30000           30000          30000   \n",
       "unique                      NaN       2               5              4   \n",
       "top                         NaN  Female      University         Single   \n",
       "freq                        NaN   18112           14030          15964   \n",
       "mean              167484.322667     NaN             NaN            NaN   \n",
       "std               129747.661567     NaN             NaN            NaN   \n",
       "min                10000.000000     NaN             NaN            NaN   \n",
       "25%                50000.000000     NaN             NaN            NaN   \n",
       "50%               140000.000000     NaN             NaN            NaN   \n",
       "75%               240000.000000     NaN             NaN            NaN   \n",
       "max              1000000.000000     NaN             NaN            NaN   \n",
       "\n",
       "                 Age Repayment_Status_Sep_2005 Repayment_Status_Aug_2005  \\\n",
       "count   30000.000000                     30000                     30000   \n",
       "unique           NaN                        10                        10   \n",
       "top              NaN                   Unknown                   Unknown   \n",
       "freq             NaN                     17496                     19512   \n",
       "mean       35.485500                       NaN                       NaN   \n",
       "std         9.217904                       NaN                       NaN   \n",
       "min        21.000000                       NaN                       NaN   \n",
       "25%        28.000000                       NaN                       NaN   \n",
       "50%        34.000000                       NaN                       NaN   \n",
       "75%        41.000000                       NaN                       NaN   \n",
       "max        79.000000                       NaN                       NaN   \n",
       "\n",
       "       Repayment_Status_Jul_2005 Repayment_Status_Jun_2005  \\\n",
       "count                      30000                     30000   \n",
       "unique                        10                        10   \n",
       "top                      Unknown                   Unknown   \n",
       "freq                       19849                     20803   \n",
       "mean                         NaN                       NaN   \n",
       "std                          NaN                       NaN   \n",
       "min                          NaN                       NaN   \n",
       "25%                          NaN                       NaN   \n",
       "50%                          NaN                       NaN   \n",
       "75%                          NaN                       NaN   \n",
       "max                          NaN                       NaN   \n",
       "\n",
       "       Repayment_Status_May_2005 Repayment_Status_Apr_2005  \\\n",
       "count                      30000                     30000   \n",
       "unique                         9                         9   \n",
       "top                      Unknown                   Unknown   \n",
       "freq                       21493                     21181   \n",
       "mean                         NaN                       NaN   \n",
       "std                          NaN                       NaN   \n",
       "min                          NaN                       NaN   \n",
       "25%                          NaN                       NaN   \n",
       "50%                          NaN                       NaN   \n",
       "75%                          NaN                       NaN   \n",
       "max                          NaN                       NaN   \n",
       "\n",
       "        Bill_Amount_Sep_2005  Bill_Amount_Aug_2005  Bill_Amount_Jul_2005  \\\n",
       "count           30000.000000          30000.000000          3.000000e+04   \n",
       "unique                   NaN                   NaN                   NaN   \n",
       "top                      NaN                   NaN                   NaN   \n",
       "freq                     NaN                   NaN                   NaN   \n",
       "mean            51223.330900          49179.075167          4.701315e+04   \n",
       "std             73635.860576          71173.768783          6.934939e+04   \n",
       "min           -165580.000000         -69777.000000         -1.572640e+05   \n",
       "25%              3558.750000           2984.750000          2.666250e+03   \n",
       "50%             22381.500000          21200.000000          2.008850e+04   \n",
       "75%             67091.000000          64006.250000          6.016475e+04   \n",
       "max            964511.000000         983931.000000          1.664089e+06   \n",
       "\n",
       "        Bill_Amount_Jun_2005  Bill_Amount_May_2005  Bill_Amount_Apr_2005  \\\n",
       "count           30000.000000          30000.000000          30000.000000   \n",
       "unique                   NaN                   NaN                   NaN   \n",
       "top                      NaN                   NaN                   NaN   \n",
       "freq                     NaN                   NaN                   NaN   \n",
       "mean            43262.948967          40311.400967          38871.760400   \n",
       "std             64332.856134          60797.155770          59554.107537   \n",
       "min           -170000.000000         -81334.000000        -339603.000000   \n",
       "25%              2326.750000           1763.000000           1256.000000   \n",
       "50%             19052.000000          18104.500000          17071.000000   \n",
       "75%             54506.000000          50190.500000          49198.250000   \n",
       "max            891586.000000         927171.000000         961664.000000   \n",
       "\n",
       "        Amount_Paid_Sep_2005  Amount_Paid_Aug_2005  Amount_Paid_Jul_2005  \\\n",
       "count           30000.000000          3.000000e+04           30000.00000   \n",
       "unique                   NaN                   NaN                   NaN   \n",
       "top                      NaN                   NaN                   NaN   \n",
       "freq                     NaN                   NaN                   NaN   \n",
       "mean             5663.580500          5.921163e+03            5225.68150   \n",
       "std             16563.280354          2.304087e+04           17606.96147   \n",
       "min                 0.000000          0.000000e+00               0.00000   \n",
       "25%              1000.000000          8.330000e+02             390.00000   \n",
       "50%              2100.000000          2.009000e+03            1800.00000   \n",
       "75%              5006.000000          5.000000e+03            4505.00000   \n",
       "max            873552.000000          1.684259e+06          896040.00000   \n",
       "\n",
       "        Amount_Paid_Jun_2005  Amount_Paid_May_2005  Amount_Paid_Apr_2005  \\\n",
       "count           30000.000000          30000.000000          30000.000000   \n",
       "unique                   NaN                   NaN                   NaN   \n",
       "top                      NaN                   NaN                   NaN   \n",
       "freq                     NaN                   NaN                   NaN   \n",
       "mean             4826.076867           4799.387633           5215.502567   \n",
       "std             15666.159744          15278.305679          17777.465775   \n",
       "min                 0.000000              0.000000              0.000000   \n",
       "25%               296.000000            252.500000            117.750000   \n",
       "50%              1500.000000           1500.000000           1500.000000   \n",
       "75%              4013.250000           4031.500000           4000.000000   \n",
       "max            621000.000000         426529.000000         528666.000000   \n",
       "\n",
       "        Default_Status  \n",
       "count     30000.000000  \n",
       "unique             NaN  \n",
       "top                NaN  \n",
       "freq               NaN  \n",
       "mean          0.221200  \n",
       "std           0.415062  \n",
       "min           0.000000  \n",
       "25%           0.000000  \n",
       "50%           0.000000  \n",
       "75%           0.000000  \n",
       "max           1.000000  "
      ]
     },
     "execution_count": 30,
     "metadata": {},
     "output_type": "execute_result"
    }
   ],
   "source": [
    "df_copy.describe(include = 'all')"
   ]
  },
  {
   "cell_type": "markdown",
   "metadata": {},
   "source": [
    "#### Observation:\n",
    "\n",
    "From the first look it seems the dataset has outliers, which can be expected given spending potential and earning of prospective customers can be highly skewed.\n",
    "\n",
    "Highest frequency of Education Level: University\n",
    "Highest frequency of Gender: Female\n",
    "Highest frequency of marital_Status: Single\n",
    "\n",
    "Unfortunately, for repayment status columns, Unknown has the most frequency. We would need to find the second highest occuring data point.\n",
    "\n",
    "The median Credit Amount is 140000 whereas the max is 1m, which is quite high."
   ]
  },
  {
   "cell_type": "markdown",
   "metadata": {},
   "source": [
    "## Data Imbalance\n",
    "\n",
    "Lets check the dataset for data imbalance."
   ]
  },
  {
   "cell_type": "code",
   "execution_count": 38,
   "metadata": {},
   "outputs": [
    {
     "name": "stdout",
     "output_type": "stream",
     "text": [
      "0    77.88\n",
      "1    22.12\n",
      "Name: Default_Status, dtype: float64\n"
     ]
    },
    {
     "data": {
      "image/png": "[encoded data removed]",
      "text/plain": [
       "<Figure size 300x300 with 1 Axes>"
      ]
     },
     "metadata": {},
     "output_type": "display_data"
    }
   ],
   "source": [
    "print(df_copy['Default_Status'].value_counts()/df_copy.shape[0] * 100)\n",
    "\n",
    "temp = df_copy['Default_Status'].value_counts()\n",
    "temp_df = pd.DataFrame({'Default_Status': temp.index, 'Values': temp.values})\n",
    "plt.figure(figsize = (3,3))\n",
    "plt.title(\"Credit Card Deafult Status - Target Variable - Imbalance Status\\nDefault: 0, Not Default: 1\")\n",
    "sns.barplot(x = 'Default_Status', y = 'Values', data=temp_df)\n",
    "plt.show()"
   ]
  },
  {
   "cell_type": "markdown",
   "metadata": {},
   "source": [
    "#### Observation: \n",
    "\n",
    "There is some imbalance in the target variable. It looks like there is about 78-22 split in the dataset. This will impact the classification model. So we will try to undersample the majority dataset."
   ]
  },
  {
   "cell_type": "markdown",
   "metadata": {},
   "source": [
    "## Exploration\n",
    "\n",
    "### Credit Limit Variation"
   ]
  },
  {
   "cell_type": "code",
   "execution_count": 51,
   "metadata": {},
   "outputs": [
    {
     "data": {
      "text/plain": [
       "<Figure size 2000x1000 with 0 Axes>"
      ]
     },
     "metadata": {},
     "output_type": "display_data"
    },
    {
     "data": {
      "image/png": "[encoded data removed]",
      "text/plain": [
       "<Figure size 600.25x500 with 1 Axes>"
      ]
     },
     "metadata": {},
     "output_type": "display_data"
    }
   ],
   "source": [
    "plt.figure(figsize = (20,10))\n",
    "sns.set_color_codes('pastel')\n",
    "sns.displot(x='Credit_Amount_Available', bins = 100, hue='Gender', data = df_copy)\n",
    "plt.title(\"Credit Limit Density Plot\")\n",
    "plt.show()"
   ]
  },
  {
   "cell_type": "markdown",
   "metadata": {},
   "source": [
    "#### Observations:\n",
    "\n",
    "Females tend to have a higher Credit Amount than males and there are a few outliers as the tail ends up on the extreme right."
   ]
  },
  {
   "cell_type": "code",
   "execution_count": 54,
   "metadata": {},
   "outputs": [
    {
     "data": {
      "text/plain": [
       "<Figure size 2000x1000 with 0 Axes>"
      ]
     },
     "metadata": {},
     "output_type": "display_data"
    },
    {
     "data": {
      "image/png": "[encoded data removed]",
      "text/plain": [
       "<Figure size 613.361x500 with 1 Axes>"
      ]
     },
     "metadata": {},
     "output_type": "display_data"
    }
   ],
   "source": [
    "plt.figure(figsize = (20,10))\n",
    "sns.set_color_codes('pastel')\n",
    "sns.displot(x='Credit_Amount_Available', bins = 100, hue='Default_Status', data = df_copy)\n",
    "plt.title(\"Credit Limit Density Plot\")\n",
    "plt.show()"
   ]
  },
  {
   "cell_type": "markdown",
   "metadata": {},
   "source": [
    "#### Observations:\n",
    "\n",
    "Customers who are projected to Default have higher Credit Amount Available."
   ]
  },
  {
   "cell_type": "markdown",
   "metadata": {},
   "source": [
    "### Credit_Amount_Available, Marital_Status, Age, Gender and Education_Level"
   ]
  },
  {
   "cell_type": "code",
   "execution_count": 65,
   "metadata": {},
   "outputs": [],
   "source": [
    "def plot_box(feature1, feature2, feature3):\n",
    "    fig, ax1 = plt.subplots(ncols=1, figsize=(14,6))\n",
    "    sns.boxplot(ax=ax1,\n",
    "                x=feature1,\n",
    "                y=feature2,\n",
    "                hue=feature3,\n",
    "                palette = 'PRGn',\n",
    "                data=df_copy)\n",
    "#     sns.set_xticklabels(sns.get_xticklabels(), rotation=90)\n",
    "    plt.show()"
   ]
  },
  {
   "cell_type": "code",
   "execution_count": 66,
   "metadata": {},
   "outputs": [
    {
     "data": {
      "image/png": "[encoded data removed]",
      "text/plain": [
       "<Figure size 1400x600 with 1 Axes>"
      ]
     },
     "metadata": {},
     "output_type": "display_data"
    }
   ],
   "source": [
    "plot_box('Marital_Status', 'Credit_Amount_Available', 'Gender')"
   ]
  },
  {
   "cell_type": "markdown",
   "metadata": {},
   "source": [
    "#### Observations:\n",
    "\n",
    "Married people and Single people have higher Credit Limits among other groups. We will have to handle outliers."
   ]
  },
  {
   "cell_type": "code",
   "execution_count": 67,
   "metadata": {},
   "outputs": [
    {
     "data": {
      "image/png": "[encoded data removed]",
      "text/plain": [
       "<Figure size 1400x600 with 1 Axes>"
      ]
     },
     "metadata": {},
     "output_type": "display_data"
    }
   ],
   "source": [
    "plot_box('Education_Level', 'Credit_Amount_Available', 'Gender')"
   ]
  },
  {
   "cell_type": "markdown",
   "metadata": {},
   "source": [
    "#### Observations:\n",
    "\n",
    "Graduates have the highest median Credit Amounts."
   ]
  },
  {
   "cell_type": "code",
   "execution_count": 68,
   "metadata": {},
   "outputs": [
    {
     "data": {
      "image/png": "[encoded data removed]",
      "text/plain": [
       "<Figure size 1400x600 with 1 Axes>"
      ]
     },
     "metadata": {},
     "output_type": "display_data"
    }
   ],
   "source": [
    "plot_box('Age', 'Credit_Amount_Available', 'Gender')"
   ]
  },
  {
   "cell_type": "markdown",
   "metadata": {},
   "source": [
    "#### Observations:\n",
    "\n",
    "The Credit Limit variation among different ages starts of low at a lower age, gradually increasing and plateauing between 30-50 years and then for higher ages above 60, the Limits start increasing."
   ]
  },
  {
   "cell_type": "markdown",
   "metadata": {},
   "source": [
    "## Correlations among various Billing and Payment Status\n",
    "\n",
    "### Among Repayment Status"
   ]
  },
  {
   "cell_type": "code",
   "execution_count": 77,
   "metadata": {},
   "outputs": [
    {
     "data": {
      "image/png": "[encoded data removed]",
      "text/plain": [
       "<Figure size 640x480 with 2 Axes>"
      ]
     },
     "metadata": {},
     "output_type": "display_data"
    }
   ],
   "source": [
    "cols = ['PAY_0', 'PAY_2', 'PAY_3', 'PAY_4', 'PAY_5', 'PAY_6']\n",
    "\n",
    "corr = data_corr[cols].corr()\n",
    "plt.title('Correlation Among Repayment Status')\n",
    "sns.heatmap(corr, xticklabels=corr.columns, yticklabels=corr.columns, linewidths=.1, annot=True, vmin=-1, vmax=1)\n",
    "plt.show()"
   ]
  },
  {
   "cell_type": "markdown",
   "metadata": {},
   "source": [
    "#### Observations:\n",
    "\n",
    "For each month, the month immediately preceeding has the highest correlation."
   ]
  },
  {
   "cell_type": "markdown",
   "metadata": {},
   "source": [
    "### Among Billed Amounts"
   ]
  },
  {
   "cell_type": "code",
   "execution_count": null,
   "metadata": {},
   "outputs": [],
   "source": []
  }
 ],
 "metadata": {
  "colab": {
   "authorship_tag": "ABX9TyPzmnp+jx5xd1JvYnILICla",
   "provenance": []
  },
  "kernelspec": {
   "display_name": "Python 3 (ipykernel)",
   "language": "python",
   "name": "python3"
  },
  "language_info": {
   "codemirror_mode": {
    "name": "ipython",
    "version": 3
   },
   "file_extension": ".py",
   "mimetype": "text/x-python",
   "name": "python",
   "nbconvert_exporter": "python",
   "pygments_lexer": "ipython3",
   "version": "3.9.13"
  }
 },
 "nbformat": 4,
 "nbformat_minor": 1
}
